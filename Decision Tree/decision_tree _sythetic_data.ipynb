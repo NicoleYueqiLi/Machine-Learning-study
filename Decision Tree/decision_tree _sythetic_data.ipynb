{
 "cells": [
  {
   "cell_type": "code",
   "execution_count": 253,
   "id": "a96a2b82-cb1e-45da-8ffd-d8432aa20dc0",
   "metadata": {},
   "outputs": [],
   "source": [
    "import collections\n",
    "import pandas as pd\n",
    "import numpy as np\n",
    "import matplotlib.pyplot as plt\n",
    "import matplotlib.patches as mpatches\n",
    "import seaborn as sns\n",
    "%matplotlib inline"
   ]
  },
  {
   "cell_type": "code",
   "execution_count": 269,
   "id": "c909c202-f138-4408-a425-32f6d847a339",
   "metadata": {},
   "outputs": [],
   "source": [
    "# Define class for classification tree\n",
    "class c_tree:\n",
    "    def __init__(self, data=None, k=0, level=0):\n",
    "        self.level = level\n",
    "        self.data = data\n",
    "        self.children = {}\n",
    "        self.k = k\n",
    "        self.value_num = 2\n",
    "        self.__max_level = 2\n",
    "        self.select_i = -1\n",
    "        if self.level >= self.__max_level: return\n",
    "        self.select_i = self.split_attribute()\n",
    "        att_i = self.data.iloc[:, self.select_i]\n",
    "        for att in set(att_i):\n",
    "            Xi = self.data.groupby(att_i).get_group(att)\n",
    "            new_tree = c_tree(data=Xi, k=self.k, level=self.level+1)\n",
    "            self.children[att] = new_tree\n",
    "            \n",
    "    def nlogn(self, x):\n",
    "        if x > 0: return x * np.log2(x)\n",
    "        else: return 0\n",
    "    \n",
    "#     def cal_node_entropy(self):\n",
    "#         N = len(self.data)\n",
    "#         Nm = collections.Counter(self.data.value)\n",
    "#         res = 0\n",
    "#         for i in Nm:\n",
    "#             p = Nm[i] / N\n",
    "#             res -= self.nlogn(p)\n",
    "            \n",
    "#         return res\n",
    "    \n",
    "    def cal_split_entropy(self, m):\n",
    "        Nmji = [[0 for _ in range(self.k)] for __ in range(self.value_num)]\n",
    "        Nmj = [0] * self.k\n",
    "        Nm = len(self.data)\n",
    "        for feature, value in zip(self.data.iloc[:, m], self.data.iloc[:, -1]):\n",
    "            Nmji[value][feature-1] += 1\n",
    "            Nmj[feature-1] += 1\n",
    "            \n",
    "        N_temp = [sum(self.nlogn(Nmji[i][j] / Nmj[j]) if Nmj[j] > 0 else 0 for i in range(self.value_num)) for j in range(self.k)]\n",
    "        return -sum(Nmj[j] * N_temp[j] / Nm for j in range(self.k))\n",
    "    \n",
    "    def split_attribute(self):\n",
    "        MinEnt = float('Inf')\n",
    "        e = 0\n",
    "        bestf = 0\n",
    "        for i in range(len(self.data.columns)-1):\n",
    "            e = self.cal_split_entropy(i)\n",
    "            if e < MinEnt:\n",
    "                MinEnt, bestf = e, i\n",
    "        return bestf\n",
    "    \n",
    "    def predict(self, new_data):\n",
    "        # Assume new_data is pandas dataframe with only one row\n",
    "        if self.select_i >= 0 and new_data[self.select_i] in self.children:\n",
    "            return self.children[new_data[self.select_i]].predict(new_data)\n",
    "        else:\n",
    "            c = collections.Counter(self.data.iloc[:, -1])\n",
    "            res, curr_max = 0, -1\n",
    "            for i in c:\n",
    "                if c[i] > curr_max: res, curr_max = i, c[i]\n",
    "            return res\n"
   ]
  },
  {
   "cell_type": "code",
   "execution_count": 273,
   "id": "cc110fbb-d768-4b84-a4ad-304fcad27727",
   "metadata": {},
   "outputs": [
    {
     "name": "stdout",
     "output_type": "stream",
     "text": [
      "              PredPostive  PredNegative\n",
      "TestPostive           100             0\n",
      "TestNegative            0           100\n",
      "synthetic-1.csv accuracy rate is  100.0 % with 2 bins\n"
     ]
    }
   ],
   "source": []
  },
  {
   "cell_type": "code",
   "execution_count": 296,
   "id": "9179dad4-0ae5-473b-b91c-965c44edc6e8",
   "metadata": {},
   "outputs": [],
   "source": [
    "#preprocess\n",
    "def split(train_data,k):\n",
    "    for i in range(len(train_data.columns) - 1):\n",
    "        max_n = max(train_data.iloc[:, i]) + 1e-6\n",
    "        min_n = min(train_data.iloc[:, i])\n",
    "        dis=(max_n-min_n)/k\n",
    "        f_1=[min_n] \n",
    "        for _ in range(k):\n",
    "            f_1.append(f_1[-1]+dis)  \n",
    "        train_data.iloc[:, i]=np.digitize(train_data.iloc[:, i],f_1)\n",
    "def test(filename,k):\n",
    "    train_data_m = pd.read_csv(filename, header=None)\n",
    "    split(train_data_m,k)\n",
    "    #call function\n",
    "    Tree = c_tree(train_data_m, k, 0)\n",
    "    #Test--build confusion matrix\n",
    "    test_data_m = train_data_m.copy()\n",
    "    cont = [[0, 0], [0, 0]]\n",
    "    for i in range(200):\n",
    "        label, pred = test_data_m.iloc[i, 2], Tree.predict(test_data_m.iloc[i, 0:2])\n",
    "        cont[label][pred] += 1\n",
    "    y=pd.DataFrame(cont)\n",
    "    y.columns =['PredPostive', 'PredNegative'] \n",
    "    y.index = ['TestPostive', 'TestNegative']\n",
    "    print(y)\n",
    "    correct=(y.iloc[0,0]+y.iloc[1,1])/200\n",
    "    print(filename,\"accuracy rate is \",correct*100,\"%\", \"with\", k ,\"bins\")"
   ]
  },
  {
   "cell_type": "code",
   "execution_count": 297,
   "id": "47be5679-e64a-48f7-bbc8-d752517a6668",
   "metadata": {},
   "outputs": [
    {
     "name": "stdout",
     "output_type": "stream",
     "text": [
      "              PredPostive  PredNegative\n",
      "TestPostive           100             0\n",
      "TestNegative            0           100\n",
      "synthetic-1.csv accuracy rate is  100.0 % with 2 bins\n"
     ]
    }
   ],
   "source": [
    "test(\"synthetic-1.csv\" ,2)"
   ]
  },
  {
   "cell_type": "code",
   "execution_count": 311,
   "id": "d0ef5320-d37c-4660-8c9e-c3bac5274d54",
   "metadata": {},
   "outputs": [
    {
     "name": "stdout",
     "output_type": "stream",
     "text": [
      "Best restult reach: Divide synthetic-1.csv into 2 bins\n",
      "              PredPostive  PredNegative\n",
      "TestPostive           100             0\n",
      "TestNegative            0           100\n",
      "synthetic-1.csv accuracy rate is  100.0 % with 2 bins\n",
      "\n",
      " \n",
      "\n",
      "Best restult reach: Divide synthetic-2.csv into 10 bins\n",
      "              PredPostive  PredNegative\n",
      "TestPostive            98             2\n",
      "TestNegative            2            98\n",
      "synthetic-2.csv accuracy rate is  98.0 % with 10 bins\n",
      "\n",
      " \n",
      "\n",
      "Best restult reach: Divide synthetic-3.csv into 9 bins\n",
      "              PredPostive  PredNegative\n",
      "TestPostive            89            11\n",
      "TestNegative            6            94\n",
      "synthetic-3.csv accuracy rate is  91.5 % with 9 bins\n",
      "\n",
      " \n",
      "\n",
      "Best restult reach: Divide synthetic-4.csv into 10 bins\n",
      "              PredPostive  PredNegative\n",
      "TestPostive            95             5\n",
      "TestNegative            1            99\n",
      "synthetic-4.csv accuracy rate is  97.0 % with 10 bins\n",
      "\n",
      " \n",
      "\n"
     ]
    }
   ],
   "source": [
    "def main():\n",
    "    testlist=[\"synthetic-1.csv\" ,\"synthetic-2.csv\",\"synthetic-3.csv\",\"synthetic-4.csv\"]\n",
    "    parameter=[2,10,9,10]\n",
    "    for i in range(4):\n",
    "        print(\"Best restult reach: Divide\",testlist[i],\"into\", parameter[i],\"bins\")\n",
    "        test(testlist[i],parameter[i])\n",
    "        print('\\n','\\n')\n",
    "main()\n"
   ]
  },
  {
   "cell_type": "code",
   "execution_count": 262,
   "id": "14e2f68f-8662-4eeb-a956-79a0451fbf8d",
   "metadata": {},
   "outputs": [],
   "source": [
    "#visulization\n",
    "dummy = []\n",
    "filename=\"synthetic-1.csv\" \n",
    "k=2\n",
    "train_data_m = pd.read_csv(filename, header=None)\n",
    "#preprocess\n",
    "def split(train_data,k):\n",
    "    for i in range(len(train_data.columns) - 1):\n",
    "        max_n = max(train_data.iloc[:, i]) + 1e-6\n",
    "        min_n = min(train_data.iloc[:, i])\n",
    "        dis=(max_n-min_n)/k\n",
    "        f_1=[min_n] \n",
    "        for _ in range(k):\n",
    "            f_1.append(f_1[-1]+dis)  \n",
    "        train_data.iloc[:, i]=np.digitize(train_data.iloc[:, i],f_1)\n",
    "split(train_data_m,k)\n",
    "\n",
    "#call function\n",
    "Tree = c_tree(train_data_m, k, 0)\n",
    "#Test--build confusion matrix\n",
    "test_data_m = train_data_m.copy()\n",
    "cont = [[0, 0], [0, 0]]\n",
    "for i in range(200):\n",
    "    label, pred = test_data_m.iloc[i, 2], Tree.predict(test_data_m.iloc[i, 0:2])\n",
    "    cont[label][pred] += 1\n",
    "y=pd.DataFrame(cont)\n",
    "y.columns =['PredPostive', 'PredNegative'] \n",
    "y.index = ['TestPostive', 'TestNegative']\n",
    "print(y)\n",
    "correct=(y.iloc[0,0]+y.iloc[1,1])/200\n",
    "print(filename,\"accuracy rate is \",correct*100,\"%\", \"with\", k ,\"bins\")\n",
    "\n",
    "\n",
    "dummy = []\n",
    "for i in range(1, k+1):\n",
    "    for j in range(1, k+1):\n",
    "        dummy.append([i, j])\n",
    "dummy_pd = pd.DataFrame(dummy)\n",
    "preds = []\n",
    "for i in range(len(dummy_pd)):\n",
    "    preds.append(Tree.predict(dummy_pd.iloc[i, 0:2]))\n",
    "for row, pred in zip(dummy, preds):\n",
    "    row.append(pred)\n",
    "c_index= pd.DataFrame(dummy)\n",
    "c_index.columns =['x', 'y','descision']"
   ]
  },
  {
   "cell_type": "code",
   "execution_count": 263,
   "id": "1088c6a3-44b4-4af8-a3a6-aa6d9a7ed877",
   "metadata": {},
   "outputs": [],
   "source": [
    "train_data = pd.read_csv(filename, header=None)\n",
    "max_n = max(train_data.iloc[:, 0]) +1e-6\n",
    "min_n = min(train_data.iloc[:, 0])\n",
    "dis_1=(max_n-min_n)/k\n",
    "f_1=[min_n] \n",
    "for _ in range(k):\n",
    "    f_1.append(f_1[-1]+dis_1) \n",
    "\n",
    "max_m = max(train_data.iloc[:, 1])+1e-6\n",
    "min_m = min(train_data.iloc[:, 1])\n",
    "dis_2=(max_m-min_m)/k\n",
    "f_2=[min_m] \n",
    "for _ in range(k):\n",
    "    f_2.append(f_2[-1]+dis_2)  "
   ]
  },
  {
   "cell_type": "code",
   "execution_count": 264,
   "id": "697f48a0-2256-494d-b704-409b154a556c",
   "metadata": {},
   "outputs": [],
   "source": [
    "spli=[f_1,f_2]\n",
    "sp=pd.DataFrame(spli)\n",
    "sp=sp.T\n",
    "sp.columns=['x','y']\n"
   ]
  },
  {
   "cell_type": "code",
   "execution_count": 265,
   "id": "9a382f64-8db9-4353-89cf-cbc6f984866c",
   "metadata": {},
   "outputs": [
    {
     "data": {
      "image/png": "[encoded data removed]",
      "text/plain": [
       "<Figure size 432x288 with 1 Axes>"
      ]
     },
     "metadata": {
      "needs_background": "light"
     },
     "output_type": "display_data"
    }
   ],
   "source": [
    "train_data_plot = pd.read_csv(filename, header=None) \n",
    "train_data = train_data_plot\n",
    "plt.scatter(train_data.iloc[:,0], train_data.iloc[:,1], train_data.iloc[:,2]==0, c=\"red\")\n",
    "plt.scatter(train_data.iloc[:,0], train_data.iloc[:,1], train_data.iloc[:,2]==1, c=\"b\")\n",
    "for i in range(k*k):\n",
    "    xi=c_index.x.iloc[i]\n",
    "    yi = c_index.y.iloc[i]\n",
    "    left, bottom, width, height = sp.x.iloc[xi-1], sp.y.iloc[yi-1], dis_1,dis_2\n",
    "    if(c_index.descision.iloc[i]==1):\n",
    "        rect=mpatches.Rectangle((left,bottom),width,height,linewidth=1, edgecolor='b', alpha=0.2, facecolor=\"b\")\n",
    "        plt.gca().add_patch(rect)\n",
    "    if(c_index.descision.iloc[i]==0):\n",
    "        rect=mpatches.Rectangle((left,bottom),width,height,linewidth=1, edgecolor='r', alpha=0.2, facecolor=\"red\")\n",
    "        plt.gca().add_patch(rect)"
   ]
  },
  {
   "cell_type": "code",
   "execution_count": null,
   "id": "e682f0cc-2b0f-4efe-8448-ec6eaa189c8f",
   "metadata": {},
   "outputs": [],
   "source": [
    "plt.savefig(\"sy_3.png\")"
   ]
  },
  {
   "cell_type": "code",
   "execution_count": null,
   "id": "0730d0c7-1d5f-4f7d-a6d3-4fb61a380a51",
   "metadata": {},
   "outputs": [],
   "source": []
  },
  {
   "cell_type": "code",
   "execution_count": null,
   "id": "c1a73e20-1457-45fc-9d29-c137fdafe422",
   "metadata": {},
   "outputs": [],
   "source": []
  }
 ],
 "metadata": {
  "kernelspec": {
   "display_name": "Python 3",
   "language": "python",
   "name": "python3"
  },
  "language_info": {
   "codemirror_mode": {
    "name": "ipython",
    "version": 3
   },
   "file_extension": ".py",
   "mimetype": "text/x-python",
   "name": "python",
   "nbconvert_exporter": "python",
   "pygments_lexer": "ipython3",
   "version": "3.8.8"
  }
 },
 "nbformat": 4,
 "nbformat_minor": 5
}
